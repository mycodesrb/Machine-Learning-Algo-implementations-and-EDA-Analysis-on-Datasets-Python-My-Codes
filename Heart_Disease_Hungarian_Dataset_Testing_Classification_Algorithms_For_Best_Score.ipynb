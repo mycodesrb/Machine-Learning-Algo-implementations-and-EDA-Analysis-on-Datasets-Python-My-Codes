{
 "cells": [
  {
   "cell_type": "code",
   "execution_count": 1,
   "metadata": {},
   "outputs": [],
   "source": [
    "# In this analysis, I have cleaned dataset, prepared it to tran algorithms and then I tested the scores for different \n",
    "# Classification Algorithms.\n",
    "\n",
    "# Dataset can be found on https://archive.ics.uci.edu/ml/datasets.php\n",
    "\n",
    "# Data Set Information:\n",
    "\n",
    "# This database contains 76 attributes, but all published experiments refer to using a subset of 14 of them. In particular,\n",
    "# the Cleveland database is the only one that has been used by ML researchers to this date. We have two datasets, Hungarian\n",
    "# and Switzerland. Approach for both are the same. I have done the coding on Hungarian dataset only.\n",
    "# The \"goal\" field refers to the presence of heart disease in the patient.   "
   ]
  },
  {
   "cell_type": "code",
   "execution_count": 2,
   "metadata": {},
   "outputs": [],
   "source": [
    "# Attribute Information:\n",
    "#(age) \n",
    "#(sex) (1 = male; 0 = female)\n",
    "#(cp) : chest pain type\n",
    "#Value 1: typical angina\n",
    "#Value 2: atypical angina\n",
    "#Value 3: non-anginal pain\n",
    "#Value 4: asymptomatic\n",
    "\n",
    "#(trestbps): resting blood pressure (in mm Hg on admission to the hospital)\n",
    "#(chol) : serum cholestoral in mg/dl\n",
    "#(fbs): (fasting blood sugar > 120 mg/dl) (1 = true; 0 = false)\n",
    "#(restecg):  resting electrocardiographic results\n",
    "#Value 0: normal\n",
    "#Value 1: having ST-T wave abnormality (T wave inversions and/or ST elevation or depression of > 0.05 mV)\n",
    "#Value 2: showing probable or definite left ventricular hypertrophy by Estes' criteria\n",
    "\n",
    "#(thalach): maximum heart rate achieved\n",
    "#(exang): exercise induced angina (1 = yes; 0 = no)\n",
    "#(oldpeak): ST depression induced by exercise relative to rest\n",
    "#(slope): the slope of the peak exercise ST segment\n",
    "#Value 1: upsloping\n",
    "#Value 2: flat\n",
    "#Value 3: downsloping\n",
    "\n",
    "#(ca): number of major vessels (0-3) colored by flourosopy\n",
    "#(thal): 3 = normal; 6 = fixed defect; 7 = reversable defect\n",
    "#(num) (the predicted attribute) diagnosis of heart disease (angiographic disease status)\n",
    "#Value 0: < 50% diameter narrowing: Absense\n",
    "#Value 1: > 50% diameter narrowing: Presense"
   ]
  },
  {
   "cell_type": "code",
   "execution_count": 3,
   "metadata": {},
   "outputs": [],
   "source": [
    "import pandas as pd"
   ]
  },
  {
   "cell_type": "code",
   "execution_count": 4,
   "metadata": {},
   "outputs": [
    {
     "data": {
      "text/html": [
       "<div>\n",
       "<style scoped>\n",
       "    .dataframe tbody tr th:only-of-type {\n",
       "        vertical-align: middle;\n",
       "    }\n",
       "\n",
       "    .dataframe tbody tr th {\n",
       "        vertical-align: top;\n",
       "    }\n",
       "\n",
       "    .dataframe thead th {\n",
       "        text-align: right;\n",
       "    }\n",
       "</style>\n",
       "<table border=\"1\" class=\"dataframe\">\n",
       "  <thead>\n",
       "    <tr style=\"text-align: right;\">\n",
       "      <th></th>\n",
       "      <th>age</th>\n",
       "      <th>sex</th>\n",
       "      <th>cp</th>\n",
       "      <th>trestbps</th>\n",
       "      <th>chol</th>\n",
       "      <th>fbs</th>\n",
       "      <th>restecg</th>\n",
       "      <th>thalach</th>\n",
       "      <th>exang</th>\n",
       "      <th>oldpeak</th>\n",
       "      <th>slope</th>\n",
       "      <th>ca</th>\n",
       "      <th>thal</th>\n",
       "      <th>num</th>\n",
       "    </tr>\n",
       "  </thead>\n",
       "  <tbody>\n",
       "    <tr>\n",
       "      <td>0</td>\n",
       "      <td>28</td>\n",
       "      <td>1</td>\n",
       "      <td>2</td>\n",
       "      <td>130</td>\n",
       "      <td>132</td>\n",
       "      <td>0</td>\n",
       "      <td>2</td>\n",
       "      <td>185</td>\n",
       "      <td>0</td>\n",
       "      <td>0.0</td>\n",
       "      <td>?</td>\n",
       "      <td>?</td>\n",
       "      <td>?</td>\n",
       "      <td>0</td>\n",
       "    </tr>\n",
       "    <tr>\n",
       "      <td>1</td>\n",
       "      <td>29</td>\n",
       "      <td>1</td>\n",
       "      <td>2</td>\n",
       "      <td>120</td>\n",
       "      <td>243</td>\n",
       "      <td>0</td>\n",
       "      <td>0</td>\n",
       "      <td>160</td>\n",
       "      <td>0</td>\n",
       "      <td>0.0</td>\n",
       "      <td>?</td>\n",
       "      <td>?</td>\n",
       "      <td>?</td>\n",
       "      <td>0</td>\n",
       "    </tr>\n",
       "  </tbody>\n",
       "</table>\n",
       "</div>"
      ],
      "text/plain": [
       "   age  sex  cp trestbps chol fbs restecg thalach exang  oldpeak slope ca  \\\n",
       "0   28    1   2      130  132   0       2     185     0      0.0     ?  ?   \n",
       "1   29    1   2      120  243   0       0     160     0      0.0     ?  ?   \n",
       "\n",
       "  thal  num  \n",
       "0    ?    0  \n",
       "1    ?    0  "
      ]
     },
     "execution_count": 4,
     "metadata": {},
     "output_type": "execute_result"
    }
   ],
   "source": [
    "# Load the dataset, remove headers, provide names to the attributes\n",
    "df =pd.read_csv(\"d:/uhungarian.data\", header = None, names=['age','sex','cp','trestbps','chol','fbs','restecg','thalach',\n",
    "                                                             'exang','oldpeak','slope','ca','thal','num'])\n",
    "df.head(2)"
   ]
  },
  {
   "cell_type": "code",
   "execution_count": 5,
   "metadata": {},
   "outputs": [
    {
     "data": {
      "text/plain": [
       "(294, 14)"
      ]
     },
     "execution_count": 5,
     "metadata": {},
     "output_type": "execute_result"
    }
   ],
   "source": [
    "df.shape"
   ]
  },
  {
   "cell_type": "code",
   "execution_count": 6,
   "metadata": {},
   "outputs": [
    {
     "name": "stdout",
     "output_type": "stream",
     "text": [
      "<class 'pandas.core.frame.DataFrame'>\n",
      "RangeIndex: 294 entries, 0 to 293\n",
      "Data columns (total 14 columns):\n",
      "age         294 non-null int64\n",
      "sex         294 non-null int64\n",
      "cp          294 non-null int64\n",
      "trestbps    294 non-null object\n",
      "chol        294 non-null object\n",
      "fbs         294 non-null object\n",
      "restecg     294 non-null object\n",
      "thalach     294 non-null object\n",
      "exang       294 non-null object\n",
      "oldpeak     294 non-null float64\n",
      "slope       294 non-null object\n",
      "ca          294 non-null object\n",
      "thal        294 non-null object\n",
      "num         294 non-null int64\n",
      "dtypes: float64(1), int64(4), object(9)\n",
      "memory usage: 32.3+ KB\n"
     ]
    }
   ],
   "source": [
    "df.info()"
   ]
  },
  {
   "cell_type": "code",
   "execution_count": 7,
   "metadata": {},
   "outputs": [
    {
     "data": {
      "text/plain": [
       "age         0\n",
       "sex         0\n",
       "cp          0\n",
       "trestbps    0\n",
       "chol        0\n",
       "fbs         0\n",
       "restecg     0\n",
       "thalach     0\n",
       "exang       0\n",
       "oldpeak     0\n",
       "slope       0\n",
       "ca          0\n",
       "thal        0\n",
       "num         0\n",
       "dtype: int64"
      ]
     },
     "execution_count": 7,
     "metadata": {},
     "output_type": "execute_result"
    }
   ],
   "source": [
    "df.isnull().sum() # no specific null values but we need to check other values/symbols which is not of out interest"
   ]
  },
  {
   "cell_type": "code",
   "execution_count": 8,
   "metadata": {},
   "outputs": [
    {
     "data": {
      "text/plain": [
       "120    65\n",
       "130    54\n",
       "140    50\n",
       "150    23\n",
       "110    21\n",
       "160    20\n",
       "125     8\n",
       "100     6\n",
       "180     6\n",
       "170     5\n",
       "145     5\n",
       "135     5\n",
       "112     3\n",
       "124     2\n",
       "118     2\n",
       "122     2\n",
       "115     2\n",
       "200     1\n",
       "190     1\n",
       "108     1\n",
       "113     1\n",
       "132     1\n",
       "106     1\n",
       "142     1\n",
       "138     1\n",
       "105     1\n",
       "155     1\n",
       "136     1\n",
       "92      1\n",
       "?       1\n",
       "128     1\n",
       "98      1\n",
       "Name: trestbps, dtype: int64"
      ]
     },
     "execution_count": 8,
     "metadata": {},
     "output_type": "execute_result"
    }
   ],
   "source": [
    "# We will check each attribute, clean it if required and we will encode it to get it in desired input form for an algorithm\n",
    "df['trestbps'].value_counts() # found just one '?' symbol, as we will replace it with mean value  "
   ]
  },
  {
   "cell_type": "code",
   "execution_count": 9,
   "metadata": {},
   "outputs": [
    {
     "name": "stdout",
     "output_type": "stream",
     "text": [
      "133\n"
     ]
    },
    {
     "data": {
      "text/plain": [
       "120.0    65\n",
       "130.0    54\n",
       "140.0    50\n",
       "150.0    23\n",
       "110.0    21\n",
       "160.0    20\n",
       "125.0     8\n",
       "100.0     6\n",
       "180.0     6\n",
       "145.0     5\n",
       "170.0     5\n",
       "135.0     5\n",
       "112.0     3\n",
       "118.0     2\n",
       "122.0     2\n",
       "124.0     2\n",
       "115.0     2\n",
       "105.0     1\n",
       "98.0      1\n",
       "155.0     1\n",
       "190.0     1\n",
       "128.0     1\n",
       "132.0     1\n",
       "133.0     1\n",
       "108.0     1\n",
       "113.0     1\n",
       "92.0      1\n",
       "106.0     1\n",
       "200.0     1\n",
       "138.0     1\n",
       "136.0     1\n",
       "142.0     1\n",
       "Name: En_trestbps, dtype: int64"
      ]
     },
     "execution_count": 9,
     "metadata": {},
     "output_type": "execute_result"
    }
   ],
   "source": [
    "df['trestbps'] = df['trestbps'].replace(\"?\",'NaN')\n",
    "df['trestbps'] = df['trestbps'].astype('float')\n",
    "mean_trestbps = round(df['trestbps'].mean())\n",
    "df['En_trestbps'] = df['trestbps'].fillna(mean_trestbps) #to persists the change, we have to save it in another column\n",
    "print(mean_trestbps)\n",
    "df['En_trestbps'].value_counts()"
   ]
  },
  {
   "cell_type": "code",
   "execution_count": 10,
   "metadata": {},
   "outputs": [
    {
     "data": {
      "text/plain": [
       "?      23\n",
       "275     5\n",
       "246     5\n",
       "230     5\n",
       "215     4\n",
       "       ..\n",
       "234     1\n",
       "285     1\n",
       "173     1\n",
       "217     1\n",
       "303     1\n",
       "Name: chol, Length: 154, dtype: int64"
      ]
     },
     "execution_count": 10,
     "metadata": {},
     "output_type": "execute_result"
    }
   ],
   "source": [
    "df['chol'].value_counts() #As we have majority values as '?', we can replace it with the mode value"
   ]
  },
  {
   "cell_type": "code",
   "execution_count": 11,
   "metadata": {},
   "outputs": [
    {
     "name": "stderr",
     "output_type": "stream",
     "text": [
      "C:\\ProgramData\\Anaconda3\\lib\\site-packages\\sklearn\\utils\\deprecation.py:66: DeprecationWarning: Class Imputer is deprecated; Imputer was deprecated in version 0.20 and will be removed in 0.22. Import impute.SimpleImputer from sklearn instead.\n",
      "  warnings.warn(msg, category=DeprecationWarning)\n"
     ]
    },
    {
     "data": {
      "text/plain": [
       "230.0    28\n",
       "246.0     5\n",
       "275.0     5\n",
       "216.0     4\n",
       "211.0     4\n",
       "         ..\n",
       "392.0     1\n",
       "233.0     1\n",
       "242.0     1\n",
       "255.0     1\n",
       "132.0     1\n",
       "Name: En_chol, Length: 153, dtype: int64"
      ]
     },
     "execution_count": 11,
     "metadata": {},
     "output_type": "execute_result"
    }
   ],
   "source": [
    "from sklearn.preprocessing import Imputer # used to replace NaN values with desired values\n",
    "df['chol'] = df['chol'].replace(\"?\",'NaN') # Make \"?\" as NaN\n",
    "imp=Imputer(missing_values=\"NaN\", strategy=\"most_frequent\" ) \n",
    "df[\"En_chol\"]=imp.fit_transform(df[[\"chol\"]]).ravel()\n",
    "df[\"En_chol\"].value_counts()"
   ]
  },
  {
   "cell_type": "code",
   "execution_count": 12,
   "metadata": {},
   "outputs": [
    {
     "data": {
      "text/plain": [
       "0    266\n",
       "1     20\n",
       "?      8\n",
       "Name: fbs, dtype: int64"
      ]
     },
     "execution_count": 12,
     "metadata": {},
     "output_type": "execute_result"
    }
   ],
   "source": [
    "df['fbs'].value_counts() # '?' found, less in counts, so we will replace it with mean value"
   ]
  },
  {
   "cell_type": "code",
   "execution_count": 13,
   "metadata": {},
   "outputs": [
    {
     "data": {
      "text/plain": [
       "0.0    274\n",
       "1.0     20\n",
       "Name: En_fbs, dtype: int64"
      ]
     },
     "execution_count": 13,
     "metadata": {},
     "output_type": "execute_result"
    }
   ],
   "source": [
    "df['fbs'] = df['fbs'].replace(\"?\", 'NaN')\n",
    "df['fbs'] = df['fbs'].astype('float')\n",
    "mean_fbs = round(df['fbs'].mean())\n",
    "df['En_fbs'] = df['fbs'].fillna(mean_fbs)\n",
    "df['En_fbs'].value_counts()"
   ]
  },
  {
   "cell_type": "code",
   "execution_count": 14,
   "metadata": {},
   "outputs": [
    {
     "data": {
      "text/plain": [
       "0    235\n",
       "1     52\n",
       "2      6\n",
       "?      1\n",
       "Name: restecg, dtype: int64"
      ]
     },
     "execution_count": 14,
     "metadata": {},
     "output_type": "execute_result"
    }
   ],
   "source": [
    "df['restecg'].value_counts() # just one '?', replace with 0 as it has the max frequency"
   ]
  },
  {
   "cell_type": "code",
   "execution_count": 15,
   "metadata": {},
   "outputs": [
    {
     "data": {
      "text/plain": [
       "0.0    236\n",
       "1.0     52\n",
       "2.0      6\n",
       "Name: En_restecg, dtype: int64"
      ]
     },
     "execution_count": 15,
     "metadata": {},
     "output_type": "execute_result"
    }
   ],
   "source": [
    "df['restecg'] = df['restecg'].replace(\"?\",'NaN')\n",
    "df['restecg'] = df['restecg'].astype(\"float\")\n",
    "mean_rest = round(df['restecg'].mean())\n",
    "df['En_restecg'] = df['restecg'].fillna(mean_rest)\n",
    "df['En_restecg'].value_counts()"
   ]
  },
  {
   "cell_type": "code",
   "execution_count": 16,
   "metadata": {},
   "outputs": [
    {
     "data": {
      "text/plain": [
       "150    29\n",
       "140    21\n",
       "130    17\n",
       "170    14\n",
       "160    13\n",
       "       ..\n",
       "105     1\n",
       "176     1\n",
       "82      1\n",
       "129     1\n",
       "102     1\n",
       "Name: thalach, Length: 72, dtype: int64"
      ]
     },
     "execution_count": 16,
     "metadata": {},
     "output_type": "execute_result"
    }
   ],
   "source": [
    "df['thalach'].value_counts() # one '?', replace with mean"
   ]
  },
  {
   "cell_type": "code",
   "execution_count": 17,
   "metadata": {},
   "outputs": [
    {
     "data": {
      "text/plain": [
       "150.0    29\n",
       "140.0    21\n",
       "130.0    17\n",
       "170.0    14\n",
       "160.0    13\n",
       "         ..\n",
       "162.0     1\n",
       "127.0     1\n",
       "176.0     1\n",
       "119.0     1\n",
       "166.0     1\n",
       "Name: En_thalach, Length: 71, dtype: int64"
      ]
     },
     "execution_count": 17,
     "metadata": {},
     "output_type": "execute_result"
    }
   ],
   "source": [
    "df['thalach'] = df['thalach'].replace(\"?\",'NaN')\n",
    "df['thalach'] = df['thalach'].astype('float')\n",
    "mean_thalach= round(df['thalach'].mean())\n",
    "\n",
    "df['En_thalach'] = df['thalach'].fillna(mean_thalach)\n",
    "df['En_thalach'].value_counts()"
   ]
  },
  {
   "cell_type": "code",
   "execution_count": 18,
   "metadata": {},
   "outputs": [
    {
     "data": {
      "text/plain": [
       "0    204\n",
       "1     89\n",
       "?      1\n",
       "Name: exang, dtype: int64"
      ]
     },
     "execution_count": 18,
     "metadata": {},
     "output_type": "execute_result"
    }
   ],
   "source": [
    "df['exang'].value_counts() # one \"?\", replace with mean"
   ]
  },
  {
   "cell_type": "code",
   "execution_count": 19,
   "metadata": {},
   "outputs": [
    {
     "data": {
      "text/plain": [
       "0.0    205\n",
       "1.0     89\n",
       "Name: En_exang, dtype: int64"
      ]
     },
     "execution_count": 19,
     "metadata": {},
     "output_type": "execute_result"
    }
   ],
   "source": [
    "df['exang'] = df['exang'].replace(\"?\",'NaN')\n",
    "df['exang'] = df['exang'].astype('float')\n",
    "mean_exang= round(df['exang'].mean())\n",
    "\n",
    "df['En_exang'] = df['exang'].fillna(mean_exang)\n",
    "df['En_exang'].value_counts()"
   ]
  },
  {
   "cell_type": "code",
   "execution_count": 20,
   "metadata": {},
   "outputs": [
    {
     "data": {
      "text/plain": [
       "0.0    189\n",
       "1.0     41\n",
       "2.0     31\n",
       "1.5     16\n",
       "3.0      9\n",
       "2.5      3\n",
       "0.5      2\n",
       "0.8      1\n",
       "5.0      1\n",
       "4.0      1\n",
       "Name: oldpeak, dtype: int64"
      ]
     },
     "execution_count": 20,
     "metadata": {},
     "output_type": "execute_result"
    }
   ],
   "source": [
    "df['oldpeak'].value_counts() # perfect "
   ]
  },
  {
   "cell_type": "code",
   "execution_count": 21,
   "metadata": {},
   "outputs": [
    {
     "data": {
      "text/plain": [
       "?    190\n",
       "2     91\n",
       "1     12\n",
       "3      1\n",
       "Name: slope, dtype: int64"
      ]
     },
     "execution_count": 21,
     "metadata": {},
     "output_type": "execute_result"
    }
   ],
   "source": [
    "df['slope'].value_counts() # MAximum '?', use Imputer"
   ]
  },
  {
   "cell_type": "code",
   "execution_count": 22,
   "metadata": {},
   "outputs": [
    {
     "name": "stderr",
     "output_type": "stream",
     "text": [
      "C:\\ProgramData\\Anaconda3\\lib\\site-packages\\sklearn\\utils\\deprecation.py:66: DeprecationWarning: Class Imputer is deprecated; Imputer was deprecated in version 0.20 and will be removed in 0.22. Import impute.SimpleImputer from sklearn instead.\n",
      "  warnings.warn(msg, category=DeprecationWarning)\n"
     ]
    },
    {
     "data": {
      "text/plain": [
       "1.894231    190\n",
       "2.000000     91\n",
       "1.000000     12\n",
       "3.000000      1\n",
       "Name: En_slope, dtype: int64"
      ]
     },
     "execution_count": 22,
     "metadata": {},
     "output_type": "execute_result"
    }
   ],
   "source": [
    "df['slope'] = df['slope'].replace(\"?\",'NaN') # Make \"?\" as NaN\n",
    "imp=Imputer(missing_values=\"NaN\", strategy=\"mean\" ) \n",
    "df[\"En_slope\"]=imp.fit_transform(df[[\"slope\"]]).ravel()\n",
    "df[\"En_slope\"].value_counts()"
   ]
  },
  {
   "cell_type": "code",
   "execution_count": 23,
   "metadata": {},
   "outputs": [
    {
     "data": {
      "text/plain": [
       "?    291\n",
       "0      3\n",
       "Name: ca, dtype: int64"
      ]
     },
     "execution_count": 23,
     "metadata": {},
     "output_type": "execute_result"
    }
   ],
   "source": [
    "df['ca'].value_counts() # most of all are '?', only 3 are different, we can drop this column also but we will prefer to keep it"
   ]
  },
  {
   "cell_type": "code",
   "execution_count": 24,
   "metadata": {},
   "outputs": [
    {
     "data": {
      "text/plain": [
       "0.0    294\n",
       "Name: En_ca, dtype: int64"
      ]
     },
     "execution_count": 24,
     "metadata": {},
     "output_type": "execute_result"
    }
   ],
   "source": [
    "df['ca'] = df['ca'].replace(\"?\",'NaN')\n",
    "df['ca'] = df['ca'].astype('float')\n",
    "mean_ca= round(df['ca'].mean())\n",
    "\n",
    "df['En_ca'] = df['ca'].fillna(mean_ca)\n",
    "df['En_ca'].value_counts()"
   ]
  },
  {
   "cell_type": "code",
   "execution_count": 25,
   "metadata": {},
   "outputs": [
    {
     "data": {
      "text/plain": [
       "?    266\n",
       "7     11\n",
       "6     10\n",
       "3      7\n",
       "Name: thal, dtype: int64"
      ]
     },
     "execution_count": 25,
     "metadata": {},
     "output_type": "execute_result"
    }
   ],
   "source": [
    "df['thal'].value_counts() #replac '?' with mean"
   ]
  },
  {
   "cell_type": "code",
   "execution_count": 26,
   "metadata": {},
   "outputs": [
    {
     "data": {
      "text/plain": [
       "6.0    276\n",
       "7.0     11\n",
       "3.0      7\n",
       "Name: En_thal, dtype: int64"
      ]
     },
     "execution_count": 26,
     "metadata": {},
     "output_type": "execute_result"
    }
   ],
   "source": [
    "df['thal'] = df['thal'].replace(\"?\",'NaN')\n",
    "df['thal'] = df['thal'].astype('float')\n",
    "mean_thal= round(df['thal'].mean())\n",
    "\n",
    "df['En_thal'] = df['thal'].fillna(mean_thal)\n",
    "df['En_thal'].value_counts()"
   ]
  },
  {
   "cell_type": "code",
   "execution_count": 27,
   "metadata": {},
   "outputs": [
    {
     "data": {
      "text/html": [
       "<div>\n",
       "<style scoped>\n",
       "    .dataframe tbody tr th:only-of-type {\n",
       "        vertical-align: middle;\n",
       "    }\n",
       "\n",
       "    .dataframe tbody tr th {\n",
       "        vertical-align: top;\n",
       "    }\n",
       "\n",
       "    .dataframe thead th {\n",
       "        text-align: right;\n",
       "    }\n",
       "</style>\n",
       "<table border=\"1\" class=\"dataframe\">\n",
       "  <thead>\n",
       "    <tr style=\"text-align: right;\">\n",
       "      <th></th>\n",
       "      <th>age</th>\n",
       "      <th>sex</th>\n",
       "      <th>cp</th>\n",
       "      <th>oldpeak</th>\n",
       "      <th>num</th>\n",
       "      <th>En_trestbps</th>\n",
       "      <th>En_chol</th>\n",
       "      <th>En_fbs</th>\n",
       "      <th>En_restecg</th>\n",
       "      <th>En_thalach</th>\n",
       "      <th>En_exang</th>\n",
       "      <th>En_slope</th>\n",
       "      <th>En_ca</th>\n",
       "      <th>En_thal</th>\n",
       "    </tr>\n",
       "  </thead>\n",
       "  <tbody>\n",
       "    <tr>\n",
       "      <td>0</td>\n",
       "      <td>28</td>\n",
       "      <td>1</td>\n",
       "      <td>2</td>\n",
       "      <td>0.0</td>\n",
       "      <td>0</td>\n",
       "      <td>130.0</td>\n",
       "      <td>132.0</td>\n",
       "      <td>0.0</td>\n",
       "      <td>2.0</td>\n",
       "      <td>185.0</td>\n",
       "      <td>0.0</td>\n",
       "      <td>1.894231</td>\n",
       "      <td>0.0</td>\n",
       "      <td>6.0</td>\n",
       "    </tr>\n",
       "    <tr>\n",
       "      <td>1</td>\n",
       "      <td>29</td>\n",
       "      <td>1</td>\n",
       "      <td>2</td>\n",
       "      <td>0.0</td>\n",
       "      <td>0</td>\n",
       "      <td>120.0</td>\n",
       "      <td>243.0</td>\n",
       "      <td>0.0</td>\n",
       "      <td>0.0</td>\n",
       "      <td>160.0</td>\n",
       "      <td>0.0</td>\n",
       "      <td>1.894231</td>\n",
       "      <td>0.0</td>\n",
       "      <td>6.0</td>\n",
       "    </tr>\n",
       "  </tbody>\n",
       "</table>\n",
       "</div>"
      ],
      "text/plain": [
       "   age  sex  cp  oldpeak  num  En_trestbps  En_chol  En_fbs  En_restecg  \\\n",
       "0   28    1   2      0.0    0        130.0    132.0     0.0         2.0   \n",
       "1   29    1   2      0.0    0        120.0    243.0     0.0         0.0   \n",
       "\n",
       "   En_thalach  En_exang  En_slope  En_ca  En_thal  \n",
       "0       185.0       0.0  1.894231    0.0      6.0  \n",
       "1       160.0       0.0  1.894231    0.0      6.0  "
      ]
     },
     "execution_count": 27,
     "metadata": {},
     "output_type": "execute_result"
    }
   ],
   "source": [
    "# Prepare final dataframe by removing the unwanted attributes keeping all encoded attributes\n",
    "df1=df.drop(['trestbps','chol','fbs','restecg','thalach','exang','slope','ca','thal'], axis=1)\n",
    "# Final encoded dataset \n",
    "df1.head(2)"
   ]
  },
  {
   "cell_type": "code",
   "execution_count": 28,
   "metadata": {},
   "outputs": [],
   "source": [
    "# prepare input and output\n",
    "dfi = df1.iloc[:,df1.columns!='num']\n",
    "dfo = df1['num']"
   ]
  },
  {
   "cell_type": "code",
   "execution_count": 29,
   "metadata": {},
   "outputs": [],
   "source": [
    "#split in train and test\n",
    "from sklearn.model_selection import train_test_split"
   ]
  },
  {
   "cell_type": "code",
   "execution_count": 30,
   "metadata": {},
   "outputs": [
    {
     "name": "stdout",
     "output_type": "stream",
     "text": [
      "(205, 13) (205,) (89, 13) (89,)\n"
     ]
    }
   ],
   "source": [
    "X_train, X_test, y_train, y_test = train_test_split(dfi,dfo, test_size=0.30)\n",
    "print(X_train.shape, y_train.shape, X_test.shape, y_test.shape)"
   ]
  },
  {
   "cell_type": "code",
   "execution_count": 31,
   "metadata": {},
   "outputs": [],
   "source": [
    "# Fit and get scores\n",
    "from sklearn.linear_model import LogisticRegression\n",
    "from sklearn.tree import DecisionTreeClassifier\n",
    "from sklearn.ensemble import RandomForestClassifier\n",
    "from sklearn.naive_bayes import GaussianNB\n",
    "from sklearn.neighbors import KNeighborsClassifier\n",
    "from sklearn.svm import SVC\n",
    "\n",
    "algos = {'Logistic Regression':LogisticRegression(), 'Decision Tree':DecisionTreeClassifier(), 'Random Forest':RandomForestClassifier(),\n",
    "            'Naive Bayes':GaussianNB(),'KNN':KNeighborsClassifier(), 'SVC_Rbf':SVC(kernel='rbf') }"
   ]
  },
  {
   "cell_type": "code",
   "execution_count": 32,
   "metadata": {},
   "outputs": [
    {
     "name": "stdout",
     "output_type": "stream",
     "text": [
      "_____________Algorithm Scores______________\n",
      "Logistic Regression  :  0.8634146341463415\n",
      "===========================================\n",
      "Decision Tree  :  1.0\n",
      "===========================================\n",
      "Random Forest  :  0.9853658536585366\n",
      "===========================================\n",
      "Naive Bayes  :  0.8439024390243902\n",
      "===========================================\n",
      "KNN  :  0.7365853658536585\n",
      "===========================================\n",
      "SVC_Rbf  :  1.0\n",
      "===========================================\n"
     ]
    },
    {
     "name": "stderr",
     "output_type": "stream",
     "text": [
      "C:\\ProgramData\\Anaconda3\\lib\\site-packages\\sklearn\\linear_model\\logistic.py:432: FutureWarning: Default solver will be changed to 'lbfgs' in 0.22. Specify a solver to silence this warning.\n",
      "  FutureWarning)\n",
      "C:\\ProgramData\\Anaconda3\\lib\\site-packages\\sklearn\\ensemble\\forest.py:245: FutureWarning: The default value of n_estimators will change from 10 in version 0.20 to 100 in 0.22.\n",
      "  \"10 in version 0.20 to 100 in 0.22.\", FutureWarning)\n",
      "C:\\ProgramData\\Anaconda3\\lib\\site-packages\\sklearn\\svm\\base.py:193: FutureWarning: The default value of gamma will change from 'auto' to 'scale' in version 0.22 to account better for unscaled features. Set gamma explicitly to 'auto' or 'scale' to avoid this warning.\n",
      "  \"avoid this warning.\", FutureWarning)\n"
     ]
    }
   ],
   "source": [
    "lsnames, lsscores=[],[]\n",
    "for i, j in algos.items():\n",
    "    j.fit(X_train, y_train)\n",
    "    \n",
    "    lsnames.append(i)\n",
    "    lsscores.append(j.score(X_train, y_train))\n",
    "        \n",
    "print('_____________Algorithm Scores______________')\n",
    "for a in range(len(lsnames)):\n",
    "    print(lsnames[a],\" : \", lsscores[a])\n",
    "    print('===========================================')\n",
    "    "
   ]
  },
  {
   "cell_type": "code",
   "execution_count": 33,
   "metadata": {},
   "outputs": [],
   "source": [
    "# Comparing the scores, the best suited algorithm can be decided. Further more, confusion matrix and classification report\n",
    "# can also be compared, if required."
   ]
  }
 ],
 "metadata": {
  "kernelspec": {
   "display_name": "Python 3",
   "language": "python",
   "name": "python3"
  },
  "language_info": {
   "codemirror_mode": {
    "name": "ipython",
    "version": 3
   },
   "file_extension": ".py",
   "mimetype": "text/x-python",
   "name": "python",
   "nbconvert_exporter": "python",
   "pygments_lexer": "ipython3",
   "version": "3.6.9"
  }
 },
 "nbformat": 4,
 "nbformat_minor": 2
}
